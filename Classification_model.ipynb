{
  "nbformat": 4,
  "nbformat_minor": 0,
  "metadata": {
    "colab": {
      "provenance": []
    },
    "kernelspec": {
      "name": "python3",
      "display_name": "Python 3"
    },
    "language_info": {
      "name": "python"
    }
  },
  "cells": [
    {
      "cell_type": "markdown",
      "source": [
        "Dataset balancing"
      ],
      "metadata": {
        "id": "itKz4bzM8YfY"
      }
    },
    {
      "cell_type": "code",
      "execution_count": null,
      "metadata": {
        "colab": {
          "base_uri": "https://localhost:8080/"
        },
        "id": "GHUan9THJAyz",
        "outputId": "b958e4a8-bcc3-4f2c-cd4a-a7ecb4668943"
      },
      "outputs": [
        {
          "output_type": "execute_result",
          "data": {
            "text/plain": [
              "m    34085\n",
              "f    13501\n",
              "Name: gender, dtype: int64"
            ]
          },
          "metadata": {},
          "execution_count": 1
        }
      ],
      "source": [
        "import pandas as pd\n",
        "df_output_data_new = pd.read_csv('output_data_new.txt', delimiter='\\t' )\n",
        "df_output_data_new.gender.value_counts()\n"
      ]
    },
    {
      "cell_type": "code",
      "source": [
        "male_rows = df_output_data_new[df_output_data_new['gender'] == 'm']\n",
        "female_rows = df_output_data_new[df_output_data_new['gender'] == 'f']"
      ],
      "metadata": {
        "id": "kYaZaA5vF9-M"
      },
      "execution_count": null,
      "outputs": []
    },
    {
      "cell_type": "code",
      "source": [
        "df_male = male_rows.iloc[0:13500]\n",
        "df_male"
      ],
      "metadata": {
        "colab": {
          "base_uri": "https://localhost:8080/",
          "height": 419
        },
        "id": "kK12zLF7GWEi",
        "outputId": "20618b52-e005-48e6-d32e-38301a636233"
      },
      "execution_count": null,
      "outputs": [
        {
          "output_type": "execute_result",
          "data": {
            "text/plain": [
              "        user_id country  age gender  playcount  registered_unixtime\n",
              "0           384      UK   35      m      42139           1035849600\n",
              "1          3653      UK   31      m      18504           1041033600\n",
              "2          4813      US   43      m        640           1050364800\n",
              "3          5069      AT   30      m      31867           1051488000\n",
              "4          6958      US   36      m      34788           1057536000\n",
              "...         ...     ...  ...    ...        ...                  ...\n",
              "17597  13818257      UK   20      m      23788           1227186966\n",
              "17599  13823101      FI   18      m      81203           1227204495\n",
              "17600  13823675      RU   21      m      33808           1227206360\n",
              "17602  13824897      UK   -1      m      50371           1227210107\n",
              "17603  13825129      RU   22      m      57808           1227210775\n",
              "\n",
              "[13500 rows x 6 columns]"
            ],
            "text/html": [
              "\n",
              "  <div id=\"df-7789906c-7c36-4517-a4a3-c9b73336f871\" class=\"colab-df-container\">\n",
              "    <div>\n",
              "<style scoped>\n",
              "    .dataframe tbody tr th:only-of-type {\n",
              "        vertical-align: middle;\n",
              "    }\n",
              "\n",
              "    .dataframe tbody tr th {\n",
              "        vertical-align: top;\n",
              "    }\n",
              "\n",
              "    .dataframe thead th {\n",
              "        text-align: right;\n",
              "    }\n",
              "</style>\n",
              "<table border=\"1\" class=\"dataframe\">\n",
              "  <thead>\n",
              "    <tr style=\"text-align: right;\">\n",
              "      <th></th>\n",
              "      <th>user_id</th>\n",
              "      <th>country</th>\n",
              "      <th>age</th>\n",
              "      <th>gender</th>\n",
              "      <th>playcount</th>\n",
              "      <th>registered_unixtime</th>\n",
              "    </tr>\n",
              "  </thead>\n",
              "  <tbody>\n",
              "    <tr>\n",
              "      <th>0</th>\n",
              "      <td>384</td>\n",
              "      <td>UK</td>\n",
              "      <td>35</td>\n",
              "      <td>m</td>\n",
              "      <td>42139</td>\n",
              "      <td>1035849600</td>\n",
              "    </tr>\n",
              "    <tr>\n",
              "      <th>1</th>\n",
              "      <td>3653</td>\n",
              "      <td>UK</td>\n",
              "      <td>31</td>\n",
              "      <td>m</td>\n",
              "      <td>18504</td>\n",
              "      <td>1041033600</td>\n",
              "    </tr>\n",
              "    <tr>\n",
              "      <th>2</th>\n",
              "      <td>4813</td>\n",
              "      <td>US</td>\n",
              "      <td>43</td>\n",
              "      <td>m</td>\n",
              "      <td>640</td>\n",
              "      <td>1050364800</td>\n",
              "    </tr>\n",
              "    <tr>\n",
              "      <th>3</th>\n",
              "      <td>5069</td>\n",
              "      <td>AT</td>\n",
              "      <td>30</td>\n",
              "      <td>m</td>\n",
              "      <td>31867</td>\n",
              "      <td>1051488000</td>\n",
              "    </tr>\n",
              "    <tr>\n",
              "      <th>4</th>\n",
              "      <td>6958</td>\n",
              "      <td>US</td>\n",
              "      <td>36</td>\n",
              "      <td>m</td>\n",
              "      <td>34788</td>\n",
              "      <td>1057536000</td>\n",
              "    </tr>\n",
              "    <tr>\n",
              "      <th>...</th>\n",
              "      <td>...</td>\n",
              "      <td>...</td>\n",
              "      <td>...</td>\n",
              "      <td>...</td>\n",
              "      <td>...</td>\n",
              "      <td>...</td>\n",
              "    </tr>\n",
              "    <tr>\n",
              "      <th>17597</th>\n",
              "      <td>13818257</td>\n",
              "      <td>UK</td>\n",
              "      <td>20</td>\n",
              "      <td>m</td>\n",
              "      <td>23788</td>\n",
              "      <td>1227186966</td>\n",
              "    </tr>\n",
              "    <tr>\n",
              "      <th>17599</th>\n",
              "      <td>13823101</td>\n",
              "      <td>FI</td>\n",
              "      <td>18</td>\n",
              "      <td>m</td>\n",
              "      <td>81203</td>\n",
              "      <td>1227204495</td>\n",
              "    </tr>\n",
              "    <tr>\n",
              "      <th>17600</th>\n",
              "      <td>13823675</td>\n",
              "      <td>RU</td>\n",
              "      <td>21</td>\n",
              "      <td>m</td>\n",
              "      <td>33808</td>\n",
              "      <td>1227206360</td>\n",
              "    </tr>\n",
              "    <tr>\n",
              "      <th>17602</th>\n",
              "      <td>13824897</td>\n",
              "      <td>UK</td>\n",
              "      <td>-1</td>\n",
              "      <td>m</td>\n",
              "      <td>50371</td>\n",
              "      <td>1227210107</td>\n",
              "    </tr>\n",
              "    <tr>\n",
              "      <th>17603</th>\n",
              "      <td>13825129</td>\n",
              "      <td>RU</td>\n",
              "      <td>22</td>\n",
              "      <td>m</td>\n",
              "      <td>57808</td>\n",
              "      <td>1227210775</td>\n",
              "    </tr>\n",
              "  </tbody>\n",
              "</table>\n",
              "<p>13500 rows × 6 columns</p>\n",
              "</div>\n",
              "    <div class=\"colab-df-buttons\">\n",
              "\n",
              "  <div class=\"colab-df-container\">\n",
              "    <button class=\"colab-df-convert\" onclick=\"convertToInteractive('df-7789906c-7c36-4517-a4a3-c9b73336f871')\"\n",
              "            title=\"Convert this dataframe to an interactive table.\"\n",
              "            style=\"display:none;\">\n",
              "\n",
              "  <svg xmlns=\"http://www.w3.org/2000/svg\" height=\"24px\" viewBox=\"0 -960 960 960\">\n",
              "    <path d=\"M120-120v-720h720v720H120Zm60-500h600v-160H180v160Zm220 220h160v-160H400v160Zm0 220h160v-160H400v160ZM180-400h160v-160H180v160Zm440 0h160v-160H620v160ZM180-180h160v-160H180v160Zm440 0h160v-160H620v160Z\"/>\n",
              "  </svg>\n",
              "    </button>\n",
              "\n",
              "  <style>\n",
              "    .colab-df-container {\n",
              "      display:flex;\n",
              "      gap: 12px;\n",
              "    }\n",
              "\n",
              "    .colab-df-convert {\n",
              "      background-color: #E8F0FE;\n",
              "      border: none;\n",
              "      border-radius: 50%;\n",
              "      cursor: pointer;\n",
              "      display: none;\n",
              "      fill: #1967D2;\n",
              "      height: 32px;\n",
              "      padding: 0 0 0 0;\n",
              "      width: 32px;\n",
              "    }\n",
              "\n",
              "    .colab-df-convert:hover {\n",
              "      background-color: #E2EBFA;\n",
              "      box-shadow: 0px 1px 2px rgba(60, 64, 67, 0.3), 0px 1px 3px 1px rgba(60, 64, 67, 0.15);\n",
              "      fill: #174EA6;\n",
              "    }\n",
              "\n",
              "    .colab-df-buttons div {\n",
              "      margin-bottom: 4px;\n",
              "    }\n",
              "\n",
              "    [theme=dark] .colab-df-convert {\n",
              "      background-color: #3B4455;\n",
              "      fill: #D2E3FC;\n",
              "    }\n",
              "\n",
              "    [theme=dark] .colab-df-convert:hover {\n",
              "      background-color: #434B5C;\n",
              "      box-shadow: 0px 1px 3px 1px rgba(0, 0, 0, 0.15);\n",
              "      filter: drop-shadow(0px 1px 2px rgba(0, 0, 0, 0.3));\n",
              "      fill: #FFFFFF;\n",
              "    }\n",
              "  </style>\n",
              "\n",
              "    <script>\n",
              "      const buttonEl =\n",
              "        document.querySelector('#df-7789906c-7c36-4517-a4a3-c9b73336f871 button.colab-df-convert');\n",
              "      buttonEl.style.display =\n",
              "        google.colab.kernel.accessAllowed ? 'block' : 'none';\n",
              "\n",
              "      async function convertToInteractive(key) {\n",
              "        const element = document.querySelector('#df-7789906c-7c36-4517-a4a3-c9b73336f871');\n",
              "        const dataTable =\n",
              "          await google.colab.kernel.invokeFunction('convertToInteractive',\n",
              "                                                    [key], {});\n",
              "        if (!dataTable) return;\n",
              "\n",
              "        const docLinkHtml = 'Like what you see? Visit the ' +\n",
              "          '<a target=\"_blank\" href=https://colab.research.google.com/notebooks/data_table.ipynb>data table notebook</a>'\n",
              "          + ' to learn more about interactive tables.';\n",
              "        element.innerHTML = '';\n",
              "        dataTable['output_type'] = 'display_data';\n",
              "        await google.colab.output.renderOutput(dataTable, element);\n",
              "        const docLink = document.createElement('div');\n",
              "        docLink.innerHTML = docLinkHtml;\n",
              "        element.appendChild(docLink);\n",
              "      }\n",
              "    </script>\n",
              "  </div>\n",
              "\n",
              "\n",
              "<div id=\"df-36750ad3-0d0c-4d4b-a4e8-813aa324ad45\">\n",
              "  <button class=\"colab-df-quickchart\" onclick=\"quickchart('df-36750ad3-0d0c-4d4b-a4e8-813aa324ad45')\"\n",
              "            title=\"Suggest charts.\"\n",
              "            style=\"display:none;\">\n",
              "\n",
              "<svg xmlns=\"http://www.w3.org/2000/svg\" height=\"24px\"viewBox=\"0 0 24 24\"\n",
              "     width=\"24px\">\n",
              "    <g>\n",
              "        <path d=\"M19 3H5c-1.1 0-2 .9-2 2v14c0 1.1.9 2 2 2h14c1.1 0 2-.9 2-2V5c0-1.1-.9-2-2-2zM9 17H7v-7h2v7zm4 0h-2V7h2v10zm4 0h-2v-4h2v4z\"/>\n",
              "    </g>\n",
              "</svg>\n",
              "  </button>\n",
              "\n",
              "<style>\n",
              "  .colab-df-quickchart {\n",
              "    background-color: #E8F0FE;\n",
              "    border: none;\n",
              "    border-radius: 50%;\n",
              "    cursor: pointer;\n",
              "    display: none;\n",
              "    fill: #1967D2;\n",
              "    height: 32px;\n",
              "    padding: 0 0 0 0;\n",
              "    width: 32px;\n",
              "  }\n",
              "\n",
              "  .colab-df-quickchart:hover {\n",
              "    background-color: #E2EBFA;\n",
              "    box-shadow: 0px 1px 2px rgba(60, 64, 67, 0.3), 0px 1px 3px 1px rgba(60, 64, 67, 0.15);\n",
              "    fill: #174EA6;\n",
              "  }\n",
              "\n",
              "  [theme=dark] .colab-df-quickchart {\n",
              "    background-color: #3B4455;\n",
              "    fill: #D2E3FC;\n",
              "  }\n",
              "\n",
              "  [theme=dark] .colab-df-quickchart:hover {\n",
              "    background-color: #434B5C;\n",
              "    box-shadow: 0px 1px 3px 1px rgba(0, 0, 0, 0.15);\n",
              "    filter: drop-shadow(0px 1px 2px rgba(0, 0, 0, 0.3));\n",
              "    fill: #FFFFFF;\n",
              "  }\n",
              "</style>\n",
              "\n",
              "  <script>\n",
              "    async function quickchart(key) {\n",
              "      const charts = await google.colab.kernel.invokeFunction(\n",
              "          'suggestCharts', [key], {});\n",
              "    }\n",
              "    (() => {\n",
              "      let quickchartButtonEl =\n",
              "        document.querySelector('#df-36750ad3-0d0c-4d4b-a4e8-813aa324ad45 button');\n",
              "      quickchartButtonEl.style.display =\n",
              "        google.colab.kernel.accessAllowed ? 'block' : 'none';\n",
              "    })();\n",
              "  </script>\n",
              "</div>\n",
              "    </div>\n",
              "  </div>\n"
            ]
          },
          "metadata": {},
          "execution_count": 3
        }
      ]
    },
    {
      "cell_type": "code",
      "source": [
        "combined_df = pd.concat([df_male , female_rows], ignore_index=True)\n",
        "combined_df"
      ],
      "metadata": {
        "colab": {
          "base_uri": "https://localhost:8080/",
          "height": 419
        },
        "id": "tF1Gy-UvHyeI",
        "outputId": "37079959-764d-43f4-f7eb-b8561c224e84"
      },
      "execution_count": null,
      "outputs": [
        {
          "output_type": "execute_result",
          "data": {
            "text/plain": [
              "        user_id country  age gender  playcount  registered_unixtime\n",
              "0           384      UK   35      m      42139           1035849600\n",
              "1          3653      UK   31      m      18504           1041033600\n",
              "2          4813      US   43      m        640           1050364800\n",
              "3          5069      AT   30      m      31867           1051488000\n",
              "4          6958      US   36      m      34788           1057536000\n",
              "...         ...     ...  ...    ...        ...                  ...\n",
              "26996  50074447      BR   23      f        151           1338427464\n",
              "26997  50077367      BR   21      f        161           1338445489\n",
              "26998  50081211      ES   21      f         58           1338469348\n",
              "26999  50796677      PL  110      f       1495           1342344762\n",
              "27000  50871714      BY   19      f        569           1342728447\n",
              "\n",
              "[27001 rows x 6 columns]"
            ],
            "text/html": [
              "\n",
              "  <div id=\"df-6c7c024f-db06-434d-b2cb-d821b6527859\" class=\"colab-df-container\">\n",
              "    <div>\n",
              "<style scoped>\n",
              "    .dataframe tbody tr th:only-of-type {\n",
              "        vertical-align: middle;\n",
              "    }\n",
              "\n",
              "    .dataframe tbody tr th {\n",
              "        vertical-align: top;\n",
              "    }\n",
              "\n",
              "    .dataframe thead th {\n",
              "        text-align: right;\n",
              "    }\n",
              "</style>\n",
              "<table border=\"1\" class=\"dataframe\">\n",
              "  <thead>\n",
              "    <tr style=\"text-align: right;\">\n",
              "      <th></th>\n",
              "      <th>user_id</th>\n",
              "      <th>country</th>\n",
              "      <th>age</th>\n",
              "      <th>gender</th>\n",
              "      <th>playcount</th>\n",
              "      <th>registered_unixtime</th>\n",
              "    </tr>\n",
              "  </thead>\n",
              "  <tbody>\n",
              "    <tr>\n",
              "      <th>0</th>\n",
              "      <td>384</td>\n",
              "      <td>UK</td>\n",
              "      <td>35</td>\n",
              "      <td>m</td>\n",
              "      <td>42139</td>\n",
              "      <td>1035849600</td>\n",
              "    </tr>\n",
              "    <tr>\n",
              "      <th>1</th>\n",
              "      <td>3653</td>\n",
              "      <td>UK</td>\n",
              "      <td>31</td>\n",
              "      <td>m</td>\n",
              "      <td>18504</td>\n",
              "      <td>1041033600</td>\n",
              "    </tr>\n",
              "    <tr>\n",
              "      <th>2</th>\n",
              "      <td>4813</td>\n",
              "      <td>US</td>\n",
              "      <td>43</td>\n",
              "      <td>m</td>\n",
              "      <td>640</td>\n",
              "      <td>1050364800</td>\n",
              "    </tr>\n",
              "    <tr>\n",
              "      <th>3</th>\n",
              "      <td>5069</td>\n",
              "      <td>AT</td>\n",
              "      <td>30</td>\n",
              "      <td>m</td>\n",
              "      <td>31867</td>\n",
              "      <td>1051488000</td>\n",
              "    </tr>\n",
              "    <tr>\n",
              "      <th>4</th>\n",
              "      <td>6958</td>\n",
              "      <td>US</td>\n",
              "      <td>36</td>\n",
              "      <td>m</td>\n",
              "      <td>34788</td>\n",
              "      <td>1057536000</td>\n",
              "    </tr>\n",
              "    <tr>\n",
              "      <th>...</th>\n",
              "      <td>...</td>\n",
              "      <td>...</td>\n",
              "      <td>...</td>\n",
              "      <td>...</td>\n",
              "      <td>...</td>\n",
              "      <td>...</td>\n",
              "    </tr>\n",
              "    <tr>\n",
              "      <th>26996</th>\n",
              "      <td>50074447</td>\n",
              "      <td>BR</td>\n",
              "      <td>23</td>\n",
              "      <td>f</td>\n",
              "      <td>151</td>\n",
              "      <td>1338427464</td>\n",
              "    </tr>\n",
              "    <tr>\n",
              "      <th>26997</th>\n",
              "      <td>50077367</td>\n",
              "      <td>BR</td>\n",
              "      <td>21</td>\n",
              "      <td>f</td>\n",
              "      <td>161</td>\n",
              "      <td>1338445489</td>\n",
              "    </tr>\n",
              "    <tr>\n",
              "      <th>26998</th>\n",
              "      <td>50081211</td>\n",
              "      <td>ES</td>\n",
              "      <td>21</td>\n",
              "      <td>f</td>\n",
              "      <td>58</td>\n",
              "      <td>1338469348</td>\n",
              "    </tr>\n",
              "    <tr>\n",
              "      <th>26999</th>\n",
              "      <td>50796677</td>\n",
              "      <td>PL</td>\n",
              "      <td>110</td>\n",
              "      <td>f</td>\n",
              "      <td>1495</td>\n",
              "      <td>1342344762</td>\n",
              "    </tr>\n",
              "    <tr>\n",
              "      <th>27000</th>\n",
              "      <td>50871714</td>\n",
              "      <td>BY</td>\n",
              "      <td>19</td>\n",
              "      <td>f</td>\n",
              "      <td>569</td>\n",
              "      <td>1342728447</td>\n",
              "    </tr>\n",
              "  </tbody>\n",
              "</table>\n",
              "<p>27001 rows × 6 columns</p>\n",
              "</div>\n",
              "    <div class=\"colab-df-buttons\">\n",
              "\n",
              "  <div class=\"colab-df-container\">\n",
              "    <button class=\"colab-df-convert\" onclick=\"convertToInteractive('df-6c7c024f-db06-434d-b2cb-d821b6527859')\"\n",
              "            title=\"Convert this dataframe to an interactive table.\"\n",
              "            style=\"display:none;\">\n",
              "\n",
              "  <svg xmlns=\"http://www.w3.org/2000/svg\" height=\"24px\" viewBox=\"0 -960 960 960\">\n",
              "    <path d=\"M120-120v-720h720v720H120Zm60-500h600v-160H180v160Zm220 220h160v-160H400v160Zm0 220h160v-160H400v160ZM180-400h160v-160H180v160Zm440 0h160v-160H620v160ZM180-180h160v-160H180v160Zm440 0h160v-160H620v160Z\"/>\n",
              "  </svg>\n",
              "    </button>\n",
              "\n",
              "  <style>\n",
              "    .colab-df-container {\n",
              "      display:flex;\n",
              "      gap: 12px;\n",
              "    }\n",
              "\n",
              "    .colab-df-convert {\n",
              "      background-color: #E8F0FE;\n",
              "      border: none;\n",
              "      border-radius: 50%;\n",
              "      cursor: pointer;\n",
              "      display: none;\n",
              "      fill: #1967D2;\n",
              "      height: 32px;\n",
              "      padding: 0 0 0 0;\n",
              "      width: 32px;\n",
              "    }\n",
              "\n",
              "    .colab-df-convert:hover {\n",
              "      background-color: #E2EBFA;\n",
              "      box-shadow: 0px 1px 2px rgba(60, 64, 67, 0.3), 0px 1px 3px 1px rgba(60, 64, 67, 0.15);\n",
              "      fill: #174EA6;\n",
              "    }\n",
              "\n",
              "    .colab-df-buttons div {\n",
              "      margin-bottom: 4px;\n",
              "    }\n",
              "\n",
              "    [theme=dark] .colab-df-convert {\n",
              "      background-color: #3B4455;\n",
              "      fill: #D2E3FC;\n",
              "    }\n",
              "\n",
              "    [theme=dark] .colab-df-convert:hover {\n",
              "      background-color: #434B5C;\n",
              "      box-shadow: 0px 1px 3px 1px rgba(0, 0, 0, 0.15);\n",
              "      filter: drop-shadow(0px 1px 2px rgba(0, 0, 0, 0.3));\n",
              "      fill: #FFFFFF;\n",
              "    }\n",
              "  </style>\n",
              "\n",
              "    <script>\n",
              "      const buttonEl =\n",
              "        document.querySelector('#df-6c7c024f-db06-434d-b2cb-d821b6527859 button.colab-df-convert');\n",
              "      buttonEl.style.display =\n",
              "        google.colab.kernel.accessAllowed ? 'block' : 'none';\n",
              "\n",
              "      async function convertToInteractive(key) {\n",
              "        const element = document.querySelector('#df-6c7c024f-db06-434d-b2cb-d821b6527859');\n",
              "        const dataTable =\n",
              "          await google.colab.kernel.invokeFunction('convertToInteractive',\n",
              "                                                    [key], {});\n",
              "        if (!dataTable) return;\n",
              "\n",
              "        const docLinkHtml = 'Like what you see? Visit the ' +\n",
              "          '<a target=\"_blank\" href=https://colab.research.google.com/notebooks/data_table.ipynb>data table notebook</a>'\n",
              "          + ' to learn more about interactive tables.';\n",
              "        element.innerHTML = '';\n",
              "        dataTable['output_type'] = 'display_data';\n",
              "        await google.colab.output.renderOutput(dataTable, element);\n",
              "        const docLink = document.createElement('div');\n",
              "        docLink.innerHTML = docLinkHtml;\n",
              "        element.appendChild(docLink);\n",
              "      }\n",
              "    </script>\n",
              "  </div>\n",
              "\n",
              "\n",
              "<div id=\"df-ed6da28e-01ad-490a-8e14-14bd6fb85afb\">\n",
              "  <button class=\"colab-df-quickchart\" onclick=\"quickchart('df-ed6da28e-01ad-490a-8e14-14bd6fb85afb')\"\n",
              "            title=\"Suggest charts.\"\n",
              "            style=\"display:none;\">\n",
              "\n",
              "<svg xmlns=\"http://www.w3.org/2000/svg\" height=\"24px\"viewBox=\"0 0 24 24\"\n",
              "     width=\"24px\">\n",
              "    <g>\n",
              "        <path d=\"M19 3H5c-1.1 0-2 .9-2 2v14c0 1.1.9 2 2 2h14c1.1 0 2-.9 2-2V5c0-1.1-.9-2-2-2zM9 17H7v-7h2v7zm4 0h-2V7h2v10zm4 0h-2v-4h2v4z\"/>\n",
              "    </g>\n",
              "</svg>\n",
              "  </button>\n",
              "\n",
              "<style>\n",
              "  .colab-df-quickchart {\n",
              "    background-color: #E8F0FE;\n",
              "    border: none;\n",
              "    border-radius: 50%;\n",
              "    cursor: pointer;\n",
              "    display: none;\n",
              "    fill: #1967D2;\n",
              "    height: 32px;\n",
              "    padding: 0 0 0 0;\n",
              "    width: 32px;\n",
              "  }\n",
              "\n",
              "  .colab-df-quickchart:hover {\n",
              "    background-color: #E2EBFA;\n",
              "    box-shadow: 0px 1px 2px rgba(60, 64, 67, 0.3), 0px 1px 3px 1px rgba(60, 64, 67, 0.15);\n",
              "    fill: #174EA6;\n",
              "  }\n",
              "\n",
              "  [theme=dark] .colab-df-quickchart {\n",
              "    background-color: #3B4455;\n",
              "    fill: #D2E3FC;\n",
              "  }\n",
              "\n",
              "  [theme=dark] .colab-df-quickchart:hover {\n",
              "    background-color: #434B5C;\n",
              "    box-shadow: 0px 1px 3px 1px rgba(0, 0, 0, 0.15);\n",
              "    filter: drop-shadow(0px 1px 2px rgba(0, 0, 0, 0.3));\n",
              "    fill: #FFFFFF;\n",
              "  }\n",
              "</style>\n",
              "\n",
              "  <script>\n",
              "    async function quickchart(key) {\n",
              "      const charts = await google.colab.kernel.invokeFunction(\n",
              "          'suggestCharts', [key], {});\n",
              "    }\n",
              "    (() => {\n",
              "      let quickchartButtonEl =\n",
              "        document.querySelector('#df-ed6da28e-01ad-490a-8e14-14bd6fb85afb button');\n",
              "      quickchartButtonEl.style.display =\n",
              "        google.colab.kernel.accessAllowed ? 'block' : 'none';\n",
              "    })();\n",
              "  </script>\n",
              "</div>\n",
              "    </div>\n",
              "  </div>\n"
            ]
          },
          "metadata": {},
          "execution_count": 4
        }
      ]
    },
    {
      "cell_type": "markdown",
      "source": [
        "Data pre-processing"
      ],
      "metadata": {
        "id": "Vtq3tE8C6Gp1"
      }
    },
    {
      "cell_type": "code",
      "source": [
        "import numpy as np\n",
        "df = pd.read_csv('LFM-1b_users_additional.txt', delimiter='\\t' )\n",
        "df_add = df.rename (columns={'user-id':'user_id'})\n",
        "data  = pd.merge(df_add, combined_df, on='user_id')\n",
        "data = data.replace('?',np.NaN)\n",
        "data = data.dropna()"
      ],
      "metadata": {
        "id": "YxB-K7SHJ7R7"
      },
      "execution_count": null,
      "outputs": []
    },
    {
      "cell_type": "markdown",
      "source": [
        "1. Logistic Regression using 2 independent features"
      ],
      "metadata": {
        "id": "YK9DTvMa6DpG"
      }
    },
    {
      "cell_type": "code",
      "source": [
        "import pandas as pd\n",
        "import numpy as np\n",
        "from sklearn.model_selection import train_test_split\n",
        "from sklearn.preprocessing import StandardScaler\n",
        "from sklearn.linear_model import LogisticRegression\n",
        "from sklearn.metrics import accuracy_score\n",
        "from sklearn.metrics import classification_report\n",
        "\n",
        "# Select features (listening events and count of artists) and target variable (gender)\n",
        "X = data[['cnt_listeningevents', 'cnt_distinct_artists']]\n",
        "y = data['gender']\n",
        "\n",
        "# Split the data into training and testing sets\n",
        "X_train, X_test, y_train, y_test = train_test_split(X, y, test_size=0.25, random_state=42)\n",
        "\n",
        "# Standardize features (to improve model performance)\n",
        "scaler = StandardScaler()\n",
        "X_train_scaled = scaler.fit_transform(X_train)\n",
        "X_test_scaled = scaler.transform(X_test)\n",
        "\n",
        "# Initialize and train a logistic regression model\n",
        "model = LogisticRegression(random_state=42)\n",
        "model.fit(X_train_scaled, y_train)\n",
        "\n",
        "# Make predictions on the test set\n",
        "y_pred = model.predict(X_test_scaled)\n",
        "\n",
        "# Calculate accuracy of the model\n",
        "accuracy = accuracy_score(y_test, y_pred)\n",
        "print(\"Accuracy:\", accuracy)\n",
        "\n",
        "# Evaluate model performance\n",
        "print(classification_report(y_test, y_pred))\n",
        "\n",
        "# Get feature importances (coefficients) from the trained model\n",
        "feature_importances = model.coef_[0]\n",
        "\n",
        "# Create a DataFrame to display feature importances\n",
        "importance_df = pd.DataFrame({'Feature': X.columns, 'Importance': feature_importances})\n",
        "\n",
        "# Sort the DataFrame by importance\n",
        "importance_df = importance_df.sort_values(by='Importance', ascending=False)\n",
        "\n",
        "print(\"Feature Importances:\")\n",
        "print(importance_df)\n"
      ],
      "metadata": {
        "colab": {
          "base_uri": "https://localhost:8080/"
        },
        "id": "hFs-QfZXKT5z",
        "outputId": "6d42ff2c-cb58-4b5f-c1b8-e1634f31670a"
      },
      "execution_count": null,
      "outputs": [
        {
          "output_type": "stream",
          "name": "stdout",
          "text": [
            "Accuracy: 0.60451197053407\n",
            "              precision    recall  f1-score   support\n",
            "\n",
            "           f       0.63      0.19      0.29      1859\n",
            "           m       0.60      0.92      0.73      2485\n",
            "\n",
            "    accuracy                           0.60      4344\n",
            "   macro avg       0.61      0.55      0.51      4344\n",
            "weighted avg       0.61      0.60      0.54      4344\n",
            "\n",
            "Feature Importances:\n",
            "                Feature  Importance\n",
            "1  cnt_distinct_artists    0.396262\n",
            "0   cnt_listeningevents    0.167917\n"
          ]
        }
      ]
    },
    {
      "cell_type": "markdown",
      "source": [
        "2. Logistic Regression using all 5 independent features - Best Accuracy"
      ],
      "metadata": {
        "id": "C_9Ry_3KsFAK"
      }
    },
    {
      "cell_type": "code",
      "source": [
        "import pandas as pd\n",
        "import numpy as np\n",
        "from sklearn.model_selection import train_test_split\n",
        "from sklearn.preprocessing import StandardScaler\n",
        "from sklearn.linear_model import LogisticRegression\n",
        "from sklearn.metrics import accuracy_score\n",
        "from sklearn.metrics import classification_report\n",
        "\n",
        "# Select features (listening events and count of artists) and target variable (gender)\n",
        "X = data[['cnt_listeningevents', 'cnt_distinct_artists','cnt_distinct_tracks','novelty_artist_avg_year','mainstreaminess_avg_year' ]]\n",
        "y = data['gender']\n",
        "\n",
        "# Split the data into training and testing sets\n",
        "X_train, X_test, y_train, y_test = train_test_split(X, y, test_size=0.25, random_state=42)\n",
        "\n",
        "# Standardize features (to improve model performance)\n",
        "scaler = StandardScaler()\n",
        "X_train_scaled = scaler.fit_transform(X_train)\n",
        "X_test_scaled = scaler.transform(X_test)\n",
        "\n",
        "# Initialize and train a logistic regression model\n",
        "model = LogisticRegression(random_state=42)\n",
        "model.fit(X_train_scaled, y_train)\n",
        "\n",
        "# Make predictions on the test set\n",
        "y_pred = model.predict(X_test_scaled)\n",
        "\n",
        "# Calculate accuracy of the model\n",
        "accuracy = accuracy_score(y_test, y_pred)\n",
        "print(\"Accuracy:\", accuracy)\n",
        "\n",
        "# Evaluate model performance\n",
        "print(classification_report(y_test, y_pred))\n",
        "\n",
        "# Get feature importances (coefficients) from the trained model\n",
        "feature_importances = model.coef_[0]\n",
        "\n",
        "# Create a DataFrame to display feature importances\n",
        "importance_df = pd.DataFrame({'Feature': X.columns, 'Importance': feature_importances})\n",
        "\n",
        "# Sort the DataFrame by importance\n",
        "importance_df = importance_df.sort_values(by='Importance', ascending=False)\n",
        "\n",
        "print(\"Feature Importances:\")\n",
        "print(importance_df)"
      ],
      "metadata": {
        "colab": {
          "base_uri": "https://localhost:8080/"
        },
        "id": "nC1_pfuTn_ZB",
        "outputId": "caf79de1-f4d8-4ea6-e02b-ddf255c45cfb"
      },
      "execution_count": null,
      "outputs": [
        {
          "output_type": "stream",
          "name": "stdout",
          "text": [
            "Accuracy: 0.6503222836095764\n",
            "              precision    recall  f1-score   support\n",
            "\n",
            "           f       0.62      0.46      0.53      1859\n",
            "           m       0.66      0.79      0.72      2485\n",
            "\n",
            "    accuracy                           0.65      4344\n",
            "   macro avg       0.64      0.63      0.63      4344\n",
            "weighted avg       0.65      0.65      0.64      4344\n",
            "\n",
            "Feature Importances:\n",
            "                    Feature  Importance\n",
            "2       cnt_distinct_tracks    0.972168\n",
            "3   novelty_artist_avg_year   -0.058334\n",
            "1      cnt_distinct_artists   -0.076637\n",
            "4  mainstreaminess_avg_year   -0.144761\n",
            "0       cnt_listeningevents   -0.180881\n"
          ]
        }
      ]
    },
    {
      "cell_type": "markdown",
      "source": [
        "3. SVM with all 5 features"
      ],
      "metadata": {
        "id": "5rYIrG_mr-7K"
      }
    },
    {
      "cell_type": "code",
      "source": [
        "import pandas as pd\n",
        "import numpy as np\n",
        "from sklearn.model_selection import train_test_split\n",
        "from sklearn.preprocessing import StandardScaler\n",
        "from sklearn.svm import SVC  # Import the Support Vector Classifier\n",
        "from sklearn.metrics import accuracy_score\n",
        "\n",
        "\n",
        "# Select features (listening events and count of artists) and target variable (gender)\n",
        "X = data[['cnt_listeningevents', 'cnt_distinct_artists', 'cnt_distinct_tracks', 'novelty_artist_avg_year', 'mainstreaminess_avg_year']]\n",
        "y = data['gender']\n",
        "\n",
        "# Split the data into training and testing sets\n",
        "X_train, X_test, y_train, y_test = train_test_split(X, y, test_size=0.25, random_state=42)\n",
        "\n",
        "# Standardize features (to improve model performance)\n",
        "scaler = StandardScaler()\n",
        "X_train_scaled = scaler.fit_transform(X_train)\n",
        "X_test_scaled = scaler.transform(X_test)\n",
        "\n",
        "# Initialize and train a Support Vector Machine (SVM) model\n",
        "model = SVC(random_state=42)\n",
        "model.fit(X_train_scaled, y_train)\n",
        "\n",
        "# Make predictions on the test set\n",
        "y_pred = model.predict(X_test_scaled)\n",
        "\n",
        "# Calculate accuracy of the model\n",
        "accuracy = accuracy_score(y_test, y_pred)\n",
        "print(\"Accuracy:\", accuracy)\n",
        "\n",
        "# Evaluate model performance\n",
        "print(classification_report(y_test, y_pred))\n",
        "\n"
      ],
      "metadata": {
        "colab": {
          "base_uri": "https://localhost:8080/"
        },
        "id": "PSEk_fTNr9aS",
        "outputId": "7322c47f-2a27-4f7e-da06-d53f1aeb050f"
      },
      "execution_count": null,
      "outputs": [
        {
          "output_type": "stream",
          "name": "stdout",
          "text": [
            "Accuracy: 0.6553867403314917\n",
            "              precision    recall  f1-score   support\n",
            "\n",
            "           f       0.67      0.38      0.49      1859\n",
            "           m       0.65      0.86      0.74      2485\n",
            "\n",
            "    accuracy                           0.66      4344\n",
            "   macro avg       0.66      0.62      0.61      4344\n",
            "weighted avg       0.66      0.66      0.63      4344\n",
            "\n"
          ]
        }
      ]
    },
    {
      "cell_type": "markdown",
      "source": [
        "4. K  Means clustering with all 5 features"
      ],
      "metadata": {
        "id": "kkN9Oj4-s4L4"
      }
    },
    {
      "cell_type": "code",
      "source": [
        "import pandas as pd\n",
        "import numpy as np\n",
        "from sklearn.model_selection import train_test_split\n",
        "from sklearn.preprocessing import StandardScaler\n",
        "from sklearn.cluster import KMeans  # Import KMeans clustering\n",
        "from sklearn.metrics import silhouette_score\n",
        "from sklearn.metrics import classification_report\n",
        "\n",
        "# Select features (listening events and count of artists) and target variable (gender)\n",
        "X = data[['cnt_listeningevents', 'cnt_distinct_artists', 'cnt_distinct_tracks', 'novelty_artist_avg_year', 'mainstreaminess_avg_year']]\n",
        "y = data['gender']\n",
        "\n",
        "# Split the data into training and testing sets\n",
        "X_train, X_test, y_train, y_test = train_test_split(X, y, test_size=0.25, random_state=42)\n",
        "\n",
        "# Standardize features (to improve model performance)\n",
        "scaler = StandardScaler()\n",
        "X_train_scaled = scaler.fit_transform(X_train)\n",
        "X_test_scaled = scaler.transform(X_test)\n",
        "\n",
        "# Initialize and train a KMeans clustering model\n",
        "num_clusters = 2  # Number of clusters (assuming 2 for gender)\n",
        "model = KMeans(n_clusters=num_clusters, random_state=42)\n",
        "model.fit(X_train_scaled)\n",
        "\n",
        "# Predict the cluster labels for the test set\n",
        "cluster_labels = model.predict(X_test_scaled)\n",
        "\n",
        "# Convert cluster labels to strings ('f' and 'm')\n",
        "cluster_labels_str = np.where(cluster_labels == 0, 'f', 'm')\n",
        "\n",
        "# Calculate silhouette score to assess clustering quality\n",
        "silhouette_avg = silhouette_score(X_test_scaled, cluster_labels)\n",
        "print(\"Silhouette Score:\", silhouette_avg)\n",
        "\n",
        "# Evaluate cluster performance using classification report\n",
        "print(classification_report(y_test, cluster_labels_str))\n"
      ],
      "metadata": {
        "colab": {
          "base_uri": "https://localhost:8080/"
        },
        "id": "u9Uv6ugDs3mF",
        "outputId": "620a9346-c798-4082-cb49-1171c990a353"
      },
      "execution_count": null,
      "outputs": [
        {
          "output_type": "stream",
          "name": "stderr",
          "text": [
            "/usr/local/lib/python3.10/dist-packages/sklearn/cluster/_kmeans.py:870: FutureWarning: The default value of `n_init` will change from 10 to 'auto' in 1.4. Set the value of `n_init` explicitly to suppress the warning\n",
            "  warnings.warn(\n"
          ]
        },
        {
          "output_type": "stream",
          "name": "stdout",
          "text": [
            "Silhouette Score: 0.43097143277513156\n",
            "              precision    recall  f1-score   support\n",
            "\n",
            "           f       0.23      0.08      0.11      1859\n",
            "           m       0.54      0.81      0.65      2485\n",
            "\n",
            "    accuracy                           0.50      4344\n",
            "   macro avg       0.39      0.44      0.38      4344\n",
            "weighted avg       0.41      0.50      0.42      4344\n",
            "\n"
          ]
        }
      ]
    },
    {
      "cell_type": "markdown",
      "source": [
        "5. Random forest classifier (all 5 features) - Highest accuracy"
      ],
      "metadata": {
        "id": "ODT3EKBK7qab"
      }
    },
    {
      "cell_type": "code",
      "source": [
        "import pandas as pd\n",
        "from sklearn.model_selection import train_test_split\n",
        "from sklearn.ensemble import RandomForestClassifier\n",
        "from sklearn.metrics import accuracy_score, classification_report\n",
        "\n",
        "# Select features (listening events and count of artists) and target variable (gender)\n",
        "X = data[['cnt_listeningevents', 'cnt_distinct_artists', 'cnt_distinct_tracks', 'novelty_artist_avg_year', 'mainstreaminess_avg_year']]\n",
        "y = data['gender']\n",
        "\n",
        "\n",
        "# Split the data into training and testing sets\n",
        "X_train, X_test, y_train, y_test = train_test_split(X, y, test_size=0.2, random_state=42)\n",
        "\n",
        "\n",
        "# Initialize and train a Random Forest classifier\n",
        "rf_model = RandomForestClassifier(n_estimators=100, random_state=42)\n",
        "rf_model.fit(X_train, y_train)\n",
        "\n",
        "# Make predictions on the test set\n",
        "y_pred = rf_model.predict(X_test)\n",
        "\n",
        "# Evaluate model performance\n",
        "print(\"Accuracy:\", accuracy_score(y_test, y_pred))\n",
        "print(classification_report(y_test, y_pred))\n",
        "\n",
        "# Get feature importance\n",
        "feature_importance = rf_model.feature_importances_\n",
        "feature_names = X.columns\n",
        "\n",
        "# Print feature importance\n",
        "print(\"Feature Importance:\")\n",
        "for name, importance in zip(feature_names, feature_importance):\n",
        "    print(f\"{name}: {importance:.4f}\")\n"
      ],
      "metadata": {
        "colab": {
          "base_uri": "https://localhost:8080/"
        },
        "id": "zXBK3GDHAMiV",
        "outputId": "b1d7ac22-af91-45e1-e86c-43c787cd2e94"
      },
      "execution_count": null,
      "outputs": [
        {
          "output_type": "stream",
          "name": "stdout",
          "text": [
            "Accuracy: 0.6498849252013809\n",
            "              precision    recall  f1-score   support\n",
            "\n",
            "           f       0.61      0.49      0.54      1479\n",
            "           m       0.67      0.77      0.72      1997\n",
            "\n",
            "    accuracy                           0.65      3476\n",
            "   macro avg       0.64      0.63      0.63      3476\n",
            "weighted avg       0.64      0.65      0.64      3476\n",
            "\n",
            "Feature Importance:\n",
            "cnt_listeningevents: 0.1980\n",
            "cnt_distinct_artists: 0.1892\n",
            "cnt_distinct_tracks: 0.2532\n",
            "novelty_artist_avg_year: 0.1831\n",
            "mainstreaminess_avg_year: 0.1764\n"
          ]
        }
      ]
    },
    {
      "cell_type": "code",
      "source": [
        "df = pd.read_csv('LFM-1b_users_additional.txt', delimiter='\\t' )\n",
        "df = df[['cnt_listeningevents', 'cnt_distinct_artists','novelty_artist_avg_year']]\n",
        "df.isna().sum()"
      ],
      "metadata": {
        "id": "ZUh_iOhlsW5q"
      },
      "execution_count": null,
      "outputs": []
    },
    {
      "cell_type": "code",
      "source": [
        "# Load dataset\n",
        "import numpy as np\n",
        "df = pd.read_csv('LFM-1b_users_additional.txt', delimiter='\\t' )\n",
        "df_output_data_new = pd.read_csv('output_data_new.txt', delimiter='\\t' )\n",
        "\n",
        "df_add = df.rename (columns={'user-id':'user_id'})\n",
        "data  = pd.merge(df_add, df_output_data_new, on='user_id')\n",
        "data = data.replace('?',np.NaN)\n",
        "data = data.dropna()"
      ],
      "metadata": {
        "id": "Slb6JNV8sWss"
      },
      "execution_count": null,
      "outputs": []
    },
    {
      "cell_type": "markdown",
      "source": [
        "prediction classification model based on listening events and the count of artists"
      ],
      "metadata": {
        "id": "lG4h_DSwsLjf"
      }
    },
    {
      "cell_type": "markdown",
      "source": [
        "Actual - Imbalanced dataset"
      ],
      "metadata": {
        "id": "U7Iieaad62sv"
      }
    },
    {
      "cell_type": "markdown",
      "source": [
        "##1. Logistic Regression (2 input features)"
      ],
      "metadata": {
        "id": "VMwLJ3wbRXPx"
      }
    },
    {
      "cell_type": "code",
      "source": [
        "import pandas as pd\n",
        "import numpy as np\n",
        "from sklearn.model_selection import train_test_split\n",
        "from sklearn.preprocessing import StandardScaler\n",
        "from sklearn.linear_model import LogisticRegression\n",
        "from sklearn.metrics import accuracy_score\n",
        "from sklearn.metrics import classification_report\n",
        "\n",
        "# Select features (listening events and count of artists) and target variable (gender)\n",
        "X = data[['cnt_listeningevents', 'cnt_distinct_artists']]\n",
        "y = data['gender']\n",
        "\n",
        "# Split the data into training and testing sets\n",
        "X_train, X_test, y_train, y_test = train_test_split(X, y, test_size=0.25, random_state=42)\n",
        "\n",
        "# Standardize features (to improve model performance)\n",
        "scaler = StandardScaler()\n",
        "X_train_scaled = scaler.fit_transform(X_train)\n",
        "X_test_scaled = scaler.transform(X_test)\n",
        "\n",
        "# Initialize and train a logistic regression model\n",
        "model = LogisticRegression(random_state=42)\n",
        "model.fit(X_train_scaled, y_train)\n",
        "\n",
        "# Make predictions on the test set\n",
        "y_pred = model.predict(X_test_scaled)\n",
        "\n",
        "# Calculate accuracy of the model\n",
        "accuracy = accuracy_score(y_test, y_pred)\n",
        "print(\"Accuracy:\", accuracy)\n",
        "\n",
        "# Evaluate model performance\n",
        "print(classification_report(y_test, y_pred))\n"
      ],
      "metadata": {
        "colab": {
          "base_uri": "https://localhost:8080/"
        },
        "id": "Nvlw7kiQJDdU",
        "outputId": "8fab0302-34fc-4098-c7ed-a5f1ac846488"
      },
      "execution_count": null,
      "outputs": [
        {
          "output_type": "stream",
          "name": "stdout",
          "text": [
            "Accuracy: 0.7451577199778638\n",
            "              precision    recall  f1-score   support\n",
            "\n",
            "           f       0.00      0.00      0.00      1842\n",
            "           m       0.75      1.00      0.85      5386\n",
            "\n",
            "    accuracy                           0.75      7228\n",
            "   macro avg       0.37      0.50      0.43      7228\n",
            "weighted avg       0.56      0.75      0.64      7228\n",
            "\n"
          ]
        },
        {
          "output_type": "stream",
          "name": "stderr",
          "text": [
            "/usr/local/lib/python3.10/dist-packages/sklearn/metrics/_classification.py:1344: UndefinedMetricWarning: Precision and F-score are ill-defined and being set to 0.0 in labels with no predicted samples. Use `zero_division` parameter to control this behavior.\n",
            "  _warn_prf(average, modifier, msg_start, len(result))\n",
            "/usr/local/lib/python3.10/dist-packages/sklearn/metrics/_classification.py:1344: UndefinedMetricWarning: Precision and F-score are ill-defined and being set to 0.0 in labels with no predicted samples. Use `zero_division` parameter to control this behavior.\n",
            "  _warn_prf(average, modifier, msg_start, len(result))\n",
            "/usr/local/lib/python3.10/dist-packages/sklearn/metrics/_classification.py:1344: UndefinedMetricWarning: Precision and F-score are ill-defined and being set to 0.0 in labels with no predicted samples. Use `zero_division` parameter to control this behavior.\n",
            "  _warn_prf(average, modifier, msg_start, len(result))\n"
          ]
        }
      ]
    },
    {
      "cell_type": "markdown",
      "source": [
        "Explanation of the report for the binary classification problem. This report contains various metrics that assess the performance of the model on both classes (\"f\" and \"m\").\n",
        "\n",
        "Interpretation\n",
        "1. Precision is the ratio of correctly predicted positive observations\n",
        "to the total predicted positives. In the \"m\" class, the precision is 0.71, which means that when the model predicts \"m,\" it is correct 71% of the time. However, in the \"f\" class, the precision is 0.00, indicating that the model doesn't predict the \"f\" class correctly at all.\n",
        "\n",
        "2. Recall (Sensitivity): Recall is the ratio of correctly predicted positive observations to the all observations in the actual class. In the \"m\" class, the recall is 1.00, indicating that the model correctly captures all instances of the \"m\" class. However, in the \"f\" class, the recall is 0.00, suggesting that the model doesn't capture any instances of the \"f\" class.•••\n",
        "\n",
        "3. F1-Score: The F1-score is the weighted average of precision and recall. It takes into account both false positives and false negatives. In the \"m\" class, the F1-score is 0.83, which indicates a reasonable balance between precision and recall. In the \"f\" class, the F1-score is 0.00, reflecting the poor performance of the model in this class.\n",
        "\n",
        "4. Support: Support is the number of actual occurrences of the class in the specified dataset. In the \"f\" class, there are 3451 instances, and in the \"m\" class, there are 8446 instances.\n",
        "\n",
        "5. Accuracy: Accuracy is the ratio of correctly predicted observations to the total observations. The overall accuracy is 0.71, meaning that the model correctly predicts the class for about 71% of the instances.\n",
        "\n",
        "6. Macro Avg: Macro average calculates the average performance metrics across classes without considering class imbalance. In this case, the macro average precision is 0.35, recall is 0.50, and F1-score is 0.42.\n",
        "\n",
        "7. Weighted Avg: Weighted average also calculates the average performance metrics across classes, but it takes into account class imbalance. In this case, the weighted average precision is 0.50, recall is 0.71, and F1-score is 0.59.\n",
        "\n",
        "8. It's clear from the evaluation metrics that the model performs well for the \"m\" class but poorly for the \"f\" class. This could indicate a class imbalance issue or some other challenges with the data or the model itself. Further analysis and potentially model adjustments are needed to improve performance for both classes.\n",
        "\n"
      ],
      "metadata": {
        "id": "wc_WbBvORu4P"
      }
    },
    {
      "cell_type": "markdown",
      "source": [
        "##2. Logistic Regression ( 3 input features )"
      ],
      "metadata": {
        "id": "p8Gs0YyQtSjn"
      }
    },
    {
      "cell_type": "code",
      "source": [
        "import pandas as pd\n",
        "from sklearn.model_selection import train_test_split\n",
        "from sklearn.preprocessing import StandardScaler\n",
        "from sklearn.linear_model import LogisticRegression\n",
        "from sklearn.metrics import accuracy_score, classification_report\n",
        "\n",
        "# Separate features and target variable\n",
        "X = data[['cnt_listeningevents', 'cnt_distinct_artists', 'cnt_distinct_tracks']]\n",
        "y = data['gender']\n",
        "\n",
        "# Split the data into training and testing sets\n",
        "X_train, X_test, y_train, y_test = train_test_split(X, y, test_size=0.2, random_state=42)\n",
        "\n",
        "# Standardize the features\n",
        "scaler = StandardScaler()\n",
        "X_train_scaled = scaler.fit_transform(X_train)\n",
        "X_test_scaled = scaler.transform(X_test)\n",
        "\n",
        "# Initialize the Logistic Regression model\n",
        "model = LogisticRegression()\n",
        "\n",
        "# Train the model\n",
        "model.fit(X_train_scaled, y_train)\n",
        "\n",
        "# Get feature importances (coefficients) from the trained model\n",
        "feature_importances = model.coef_[0]\n",
        "\n",
        "# Create a DataFrame to display feature importances\n",
        "importance_df = pd.DataFrame({'Feature': X.columns, 'Importance': feature_importances})\n",
        "\n",
        "# Sort the DataFrame by importance\n",
        "importance_df = importance_df.sort_values(by='Importance', ascending=False)\n",
        "\n",
        "print(\"Feature Importances:\")\n",
        "print(importance_df)\n",
        "\n",
        "# Predict on the test set\n",
        "y_pred = model.predict(X_test_scaled)\n",
        "\n",
        "# Evaluate the model\n",
        "accuracy = accuracy_score(y_test, y_pred)\n",
        "report = classification_report(y_test, y_pred)\n",
        "\n",
        "print(f\"Accuracy: {accuracy}\")\n",
        "print(\"Classification Report:\\n\", report)\n"
      ],
      "metadata": {
        "colab": {
          "base_uri": "https://localhost:8080/"
        },
        "id": "K5gqjC6A5TjI",
        "outputId": "d2e9158c-c233-4302-cfd5-48087e5742a2"
      },
      "execution_count": null,
      "outputs": [
        {
          "output_type": "stream",
          "name": "stdout",
          "text": [
            "Feature Importances:\n",
            "                Feature  Importance\n",
            "2   cnt_distinct_tracks    0.653384\n",
            "0   cnt_listeningevents   -0.181698\n",
            "1  cnt_distinct_artists   -0.225781\n",
            "Accuracy: 0.7480110688343133\n",
            "Classification Report:\n",
            "               precision    recall  f1-score   support\n",
            "\n",
            "           f       0.44      0.00      0.01      1456\n",
            "           m       0.75      1.00      0.86      4326\n",
            "\n",
            "    accuracy                           0.75      5782\n",
            "   macro avg       0.60      0.50      0.43      5782\n",
            "weighted avg       0.67      0.75      0.64      5782\n",
            "\n"
          ]
        }
      ]
    },
    {
      "cell_type": "markdown",
      "source": [
        "##3. Logistic regression (feature engineering - 4 features in all )"
      ],
      "metadata": {
        "id": "IJRSZAlmvxax"
      }
    },
    {
      "cell_type": "code",
      "source": [
        "import pandas as pd\n",
        "from sklearn.model_selection import train_test_split\n",
        "from sklearn.preprocessing import StandardScaler\n",
        "from sklearn.linear_model import LogisticRegression\n",
        "from sklearn.metrics import accuracy_score, classification_report\n",
        "\n",
        "data['listening_per_artist'] = data['cnt_listeningevents'] / data['cnt_distinct_artists']\n",
        "\n",
        "# Separate features and target variable\n",
        "X = data[['cnt_listeningevents', 'cnt_distinct_artists', 'cnt_distinct_tracks','listening_per_artist' ]]\n",
        "y = data['gender']\n",
        "\n",
        "# Split the data into training and testing sets\n",
        "X_train, X_test, y_train, y_test = train_test_split(X, y, test_size=0.2, random_state=42)\n",
        "\n",
        "# Standardize the features\n",
        "scaler = StandardScaler()\n",
        "X_train_scaled = scaler.fit_transform(X_train)\n",
        "X_test_scaled = scaler.transform(X_test)\n",
        "\n",
        "# Initialize the Logistic Regression model\n",
        "model = LogisticRegression()\n",
        "\n",
        "# Train the model\n",
        "model.fit(X_train_scaled, y_train)\n",
        "\n",
        "# Predict on the test set\n",
        "y_pred = model.predict(X_test_scaled)\n",
        "\n",
        "# Evaluate the model\n",
        "accuracy = accuracy_score(y_test, y_pred)\n",
        "report = classification_report(y_test, y_pred)\n",
        "\n",
        "print(f\"Accuracy: {accuracy}\")\n",
        "print(\"Classification Report:\\n\", report)"
      ],
      "metadata": {
        "colab": {
          "base_uri": "https://localhost:8080/"
        },
        "id": "qnH88Tl3vbiQ",
        "outputId": "576110c6-e1ec-456f-b381-d86b36a22e8c"
      },
      "execution_count": null,
      "outputs": [
        {
          "output_type": "stream",
          "name": "stdout",
          "text": [
            "Accuracy: 0.7473192666897267\n",
            "Classification Report:\n",
            "               precision    recall  f1-score   support\n",
            "\n",
            "           f       0.27      0.00      0.00      1456\n",
            "           m       0.75      1.00      0.86      4326\n",
            "\n",
            "    accuracy                           0.75      5782\n",
            "   macro avg       0.51      0.50      0.43      5782\n",
            "weighted avg       0.63      0.75      0.64      5782\n",
            "\n"
          ]
        }
      ]
    },
    {
      "cell_type": "markdown",
      "source": [
        "#4. Logistic regression ( 4 features )"
      ],
      "metadata": {
        "id": "eZQjG2dBxPcq"
      }
    },
    {
      "cell_type": "code",
      "source": [
        "import pandas as pd\n",
        "from sklearn.model_selection import train_test_split\n",
        "from sklearn.preprocessing import StandardScaler\n",
        "from sklearn.linear_model import LogisticRegression\n",
        "from sklearn.metrics import accuracy_score, classification_report\n",
        "\n",
        "\n",
        "# Separate features and target variable\n",
        "X = data[['cnt_listeningevents', 'cnt_distinct_artists', 'cnt_distinct_tracks','cnt_listeningevents_per_week' ]]\n",
        "y = data['gender']\n",
        "\n",
        "# Split the data into training and testing sets\n",
        "X_train, X_test, y_train, y_test = train_test_split(X, y, test_size=0.2, random_state=42)\n",
        "\n",
        "# Standardize the features\n",
        "scaler = StandardScaler()\n",
        "X_train_scaled = scaler.fit_transform(X_train)\n",
        "X_test_scaled = scaler.transform(X_test)\n",
        "\n",
        "# Initialize the Logistic Regression model\n",
        "model = LogisticRegression()\n",
        "\n",
        "# Train the model\n",
        "model.fit(X_train_scaled, y_train)\n",
        "\n",
        "# Predict on the test set\n",
        "y_pred = model.predict(X_test_scaled)\n",
        "\n",
        "# Evaluate the model\n",
        "accuracy = accuracy_score(y_test, y_pred)\n",
        "report = classification_report(y_test, y_pred)\n",
        "\n",
        "print(f\"Accuracy: {accuracy}\")\n",
        "print(\"Classification Report:\\n\", report)"
      ],
      "metadata": {
        "colab": {
          "base_uri": "https://localhost:8080/"
        },
        "id": "rp62Nx72weYl",
        "outputId": "07008b90-b6c0-43f5-bfbb-5ace649e3188"
      },
      "execution_count": null,
      "outputs": [
        {
          "output_type": "stream",
          "name": "stdout",
          "text": [
            "Accuracy: 0.7474922172258734\n",
            "Classification Report:\n",
            "               precision    recall  f1-score   support\n",
            "\n",
            "           f       0.30      0.00      0.00      1456\n",
            "           m       0.75      1.00      0.86      4326\n",
            "\n",
            "    accuracy                           0.75      5782\n",
            "   macro avg       0.52      0.50      0.43      5782\n",
            "weighted avg       0.64      0.75      0.64      5782\n",
            "\n"
          ]
        }
      ]
    },
    {
      "cell_type": "markdown",
      "source": [
        "##5. Random Forest Classifier"
      ],
      "metadata": {
        "id": "0fCAsU6nUC-W"
      }
    },
    {
      "cell_type": "code",
      "source": [
        "import pandas as pd\n",
        "from sklearn.model_selection import train_test_split\n",
        "from sklearn.ensemble import RandomForestClassifier\n",
        "from sklearn.metrics import classification_report\n",
        "\n",
        "\n",
        "# Select features (listening events and count of artists) and target variable (gender)\n",
        "X = data[['cnt_listeningevents', 'cnt_distinct_artists']]\n",
        "y = data['gender']\n",
        "\n",
        "\n",
        "# Split the data into training and testing sets\n",
        "X_train, X_test, y_train, y_test = train_test_split(X, y, test_size=0.2, random_state=42)\n",
        "\n",
        "# Initialize and train a Random Forest classifier\n",
        "rf_model = RandomForestClassifier(n_estimators=100, random_state=42)\n",
        "rf_model.fit(X_train, y_train)\n",
        "\n",
        "# Make predictions on the test set\n",
        "y_pred = rf_model.predict(X_test)\n",
        "\n",
        "# Evaluate model performance\n",
        "print(accuracy_score(y_test, y_pred))\n",
        "print(classification_report(y_test, y_pred))\n"
      ],
      "metadata": {
        "colab": {
          "base_uri": "https://localhost:8080/"
        },
        "id": "RrPmM6q1Roye",
        "outputId": "fa279199-906c-4887-fd4d-a51d5432ce2c"
      },
      "execution_count": null,
      "outputs": [
        {
          "output_type": "stream",
          "name": "stdout",
          "text": [
            "0.6876513317191283\n",
            "              precision    recall  f1-score   support\n",
            "\n",
            "           f       0.24      0.11      0.16      1456\n",
            "           m       0.75      0.88      0.81      4326\n",
            "\n",
            "    accuracy                           0.69      5782\n",
            "   macro avg       0.50      0.50      0.48      5782\n",
            "weighted avg       0.62      0.69      0.64      5782\n",
            "\n"
          ]
        }
      ]
    },
    {
      "cell_type": "markdown",
      "source": [
        "\n",
        "1. Precision: For the \"f\" class, the precision is 0.34, indicating that out of the instances predicted as \"f,\" only 34% are actually \"f.\" For the \"m\" class, the precision is 0.72, meaning that 72% of the instances predicted as \"m\" are actually \"m.\"\n",
        "2. Recall (Sensitivity): The \"f\" class has a recall of 0.19, implying that only 19% of the actual \"f\" instances were correctly identified by the model. The \"m\" class has a recall of 0.85, indicating that the model correctly captures 85% of the actual \"m\" instances.\n",
        "3. F1-Score: The F1-score for the \"f\" class is 0.24, which is the harmonic mean of precision and recall. It balances both false positives and false negatives. The F1-score for the \"m\" class is 0.78, which indicates a better balance between precision and recall.\n",
        "4. Support: The \"f\" class has 2749 instances, and the \"m\" class has 6769 instances.\n",
        "5. Accuracy: The overall accuracy of the model is 0.66, meaning that it correctly predicts the class for approximately 66% of the instances.\n",
        "6. Macro Avg: The macro average calculates the average performance metrics across classes without considering class imbalance. In this case, the macro average precision is 0.53, recall is 0.52, and F1-score is 0.51.\n",
        "7. Weighted Avg: The weighted average calculates the average performance metrics across classes, taking into account class imbalance. In this case, the weighted average precision is 0.61, recall is 0.66, and F1-score is 0.62.\n",
        "\n",
        "The evaluation metrics suggest that the model performs reasonably well for the \"m\" class, with a higher precision and recall, but not as well for the \"f\" class. The lower precision and recall for the \"f\" class might indicate that the model struggles to correctly identify instances of this class. One of the  factors for this could be class imbalance."
      ],
      "metadata": {
        "id": "28TiSAGnTrQZ"
      }
    },
    {
      "cell_type": "markdown",
      "source": [
        "When the classes are imbalanced, the weighted average metrics can be higher than the macro average metrics because the weighted average gives more emphasis to the larger class. If the larger class is performing well, it can pull up the weighted average metrics, even if some smaller classes are not performing as well.\n",
        "\n",
        "In my research, the weighted average metrics are higher than the macro average metrics because the \"m\" class (the larger class) has better precision, recall, and F1-score compared to the \"f\" class. The better performance of the \"m\" class contributes more to the weighted average, leading to the observed difference. This is a common situation in cases where there's a significant class imbalance, and it's important to interpret the metrics in the context of the data distribution and the probllem at hand"
      ],
      "metadata": {
        "id": "9kZhuCUdXJfT"
      }
    },
    {
      "cell_type": "markdown",
      "source": [
        "- Class Imbalance: In many real-world scenarios, datasets may have an unequal distribution of classes. One class could have significantly more instances than the other. This class imbalance can impact the average metrics.\n",
        "- Macro Average: The macro average calculates the average of performance metrics (precision, recall, F1-score, etc.) for each class separately and then averages those values. It treats each class equally, regardless of its actual frequency in the dataset. As a result, if one class is very small in terms of instances, it has the same impact on the macro average as a larger class.\n",
        "- Weighted Average: The weighted average, on the other hand, calculates the average of performance metrics by considering the frequency (or \"weight\") of each class. It gives more weight to classes with a larger number of instances. This means that metrics for classes with more instances will have a larger influence on the weighted average.\n"
      ],
      "metadata": {
        "id": "fg8WAc0EX5G5"
      }
    },
    {
      "cell_type": "markdown",
      "source": [
        "##6. Random forest classifier and feature engineering"
      ],
      "metadata": {
        "id": "K5GymLSXYCxW"
      }
    },
    {
      "cell_type": "code",
      "source": [
        "data['listening_per_artist'] = data['cnt_listeningevents'] / data['cnt_distinct_artists']\n",
        "\n",
        "\n",
        "import pandas as pd\n",
        "from sklearn.model_selection import train_test_split\n",
        "from sklearn.ensemble import RandomForestClassifier\n",
        "from sklearn.metrics import classification_report\n",
        "\n",
        "# Select features (listening events and count of artists) and target variable (gender)\n",
        "X = data[['cnt_listeningevents', 'cnt_distinct_artists','listening_per_artist']]\n",
        "y = data['gender']\n",
        "\n",
        "# Split the data into training and testing sets\n",
        "X_train, X_test, y_train, y_test = train_test_split(X, y, test_size=0.2, random_state=42)\n",
        "\n",
        "# Initialize and train a Random Forest classifier\n",
        "rf_model = RandomForestClassifier(n_estimators=100, random_state=42)\n",
        "rf_model.fit(X_train, y_train)\n",
        "\n",
        "# Make predictions on the test set\n",
        "y_pred = rf_model.predict(X_test)\n",
        "\n",
        "# Evaluate model performance\n",
        "print(accuracy_score(y_test, y_pred))\n",
        "print(classification_report(y_test, y_pred))"
      ],
      "metadata": {
        "colab": {
          "base_uri": "https://localhost:8080/"
        },
        "id": "E-cdoEipSn_w",
        "outputId": "37b5cb2d-58e5-4644-89fd-c809cd7bfc05"
      },
      "execution_count": null,
      "outputs": [
        {
          "output_type": "stream",
          "name": "stdout",
          "text": [
            "0.6912832929782082\n",
            "              precision    recall  f1-score   support\n",
            "\n",
            "           f       0.25      0.11      0.16      1456\n",
            "           m       0.75      0.89      0.81      4326\n",
            "\n",
            "    accuracy                           0.69      5782\n",
            "   macro avg       0.50      0.50      0.48      5782\n",
            "weighted avg       0.62      0.69      0.65      5782\n",
            "\n"
          ]
        }
      ]
    },
    {
      "cell_type": "markdown",
      "source": [
        "##7. Random forest classifier (4 features)\n"
      ],
      "metadata": {
        "id": "3BL1AkApx0w6"
      }
    },
    {
      "cell_type": "code",
      "source": [
        "import pandas as pd\n",
        "from sklearn.model_selection import train_test_split\n",
        "from sklearn.ensemble import RandomForestClassifier\n",
        "from sklearn.metrics import classification_report\n",
        "\n",
        "# Select features (listening events and count of artists) and target variable (gender)\n",
        "X = data[['cnt_listeningevents', 'cnt_distinct_artists','cnt_distinct_tracks','cnt_listeningevents_per_week' ]]\n",
        "y = data['gender']\n",
        "\n",
        "# Split the data into training and testing sets\n",
        "X_train, X_test, y_train, y_test = train_test_split(X, y, test_size=0.2, random_state=42)\n",
        "\n",
        "# Initialize and train a Random Forest classifier\n",
        "rf_model = RandomForestClassifier(n_estimators=100, random_state=42)\n",
        "rf_model.fit(X_train, y_train)\n",
        "\n",
        "# Make predictions on the test set\n",
        "y_pred = rf_model.predict(X_test)\n",
        "\n",
        "# Evaluate model performance\n",
        "print(accuracy_score(y_test, y_pred))\n",
        "print(classification_report(y_test, y_pred))"
      ],
      "metadata": {
        "colab": {
          "base_uri": "https://localhost:8080/"
        },
        "id": "-vGcezhYyIJ2",
        "outputId": "2f34d71c-58c4-4317-fc74-6c020af62df7"
      },
      "execution_count": null,
      "outputs": [
        {
          "output_type": "stream",
          "name": "stdout",
          "text": [
            "0.7286406087858872\n",
            "              precision    recall  f1-score   support\n",
            "\n",
            "           f       0.33      0.08      0.13      1456\n",
            "           m       0.75      0.95      0.84      4326\n",
            "\n",
            "    accuracy                           0.73      5782\n",
            "   macro avg       0.54      0.51      0.48      5782\n",
            "weighted avg       0.65      0.73      0.66      5782\n",
            "\n"
          ]
        }
      ]
    },
    {
      "cell_type": "markdown",
      "source": [
        "8. Random forest classifier (all 5 features)"
      ],
      "metadata": {
        "id": "p7-YS0zg8JYq"
      }
    },
    {
      "cell_type": "code",
      "source": [
        "import pandas as pd\n",
        "from sklearn.model_selection import train_test_split\n",
        "from sklearn.ensemble import RandomForestClassifier\n",
        "from sklearn.metrics import classification_report\n",
        "\n",
        "# Select features (listening events and count of artists) and target variable (gender)\n",
        "X = data[['cnt_listeningevents', 'cnt_distinct_artists','cnt_distinct_tracks','cnt_listeningevents_per_week','mainstreaminess_avg_year']]\n",
        "y = data['gender']\n",
        "\n",
        "# Split the data into training and testing sets\n",
        "X_train, X_test, y_train, y_test = train_test_split(X, y, test_size=0.2, random_state=42)\n",
        "\n",
        "# Initialize and train a Random Forest classifier\n",
        "rf_model = RandomForestClassifier(n_estimators=100, random_state=42)\n",
        "rf_model.fit(X_train, y_train)\n",
        "\n",
        "# Make predictions on the test set\n",
        "y_pred = rf_model.predict(X_test)\n",
        "\n",
        "# Evaluate model performance\n",
        "print(accuracy_score(y_test, y_pred))\n",
        "print(classification_report(y_test, y_pred))"
      ],
      "metadata": {
        "colab": {
          "base_uri": "https://localhost:8080/"
        },
        "id": "s5yPYbN0yadb",
        "outputId": "bf64821b-b5b4-4559-ed05-882477a90f11"
      },
      "execution_count": null,
      "outputs": [
        {
          "output_type": "stream",
          "name": "stdout",
          "text": [
            "0.736942234520927\n",
            "              precision    recall  f1-score   support\n",
            "\n",
            "           f       0.40      0.08      0.14      1456\n",
            "           m       0.76      0.96      0.84      4326\n",
            "\n",
            "    accuracy                           0.74      5782\n",
            "   macro avg       0.58      0.52      0.49      5782\n",
            "weighted avg       0.67      0.74      0.67      5782\n",
            "\n"
          ]
        }
      ]
    }
  ]
}